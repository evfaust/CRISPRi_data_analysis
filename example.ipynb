{
 "cells": [
  {
   "cell_type": "code",
   "execution_count": 6,
   "metadata": {},
   "outputs": [],
   "source": [
    "\"\"\"Import necessary modules\"\"\"\n",
    "from CRISPRi_data_analysis.counter import count_abundance\n",
    "import subprocess"
   ]
  },
  {
   "cell_type": "markdown",
   "metadata": {},
   "source": [
    "# Processing Data"
   ]
  },
  {
   "cell_type": "markdown",
   "metadata": {},
   "source": [
    "##### Here we will run a bash script to unzip, merge, convert to fasta, and align your fastq input files to the reference gRNA library. Expect alignment to take some time. It is also possible to run this script directly from the terminal window."
   ]
  },
  {
   "cell_type": "code",
   "execution_count": 23,
   "metadata": {},
   "outputs": [
    {
     "name": "stdout",
     "output_type": "stream",
     "text": [
      "Process raw paired-end sequence files (ending with _R1.fastq.gz or _R2.fastq.gz) from a CRISPRi screen\n",
      "(unzip, merge, convert to fasta, align, count reads, and combine samples into single dataframe all_counts.tsv).\n",
      "\n",
      "Example with minimum inputs: ./process_data.sh -r /path/to/raw/seqs -d /path/to/library_database -a /path/for/out_alignments -c /path/for/out_counts -w wash_control_name\n",
      "Syntax: scriptTemplate [-h|r|o|d|i|m|t]\n",
      "options:\n",
      "h     Print this help.\n",
      "r     Enter the folder path storing raw paired-end .fastq.gz (zipped) sequence files. Ensure paired files have the same prefix and end with '_R1.fastq.gz' or _R2.fastq.gz'. \n",
      "Merged .fasta sequence files will be stored here.\n",
      "d     Enter the database .fasta file as alignment reference. Must contain the reverse complements of guides.\n",
      "o     Enter the desired output folder for storing alignment .tsv files. Script will create folder if it does not exist.\n",
      "i     Enter the percent identity for alignment as a fraction. (Default is 0.9.)\n",
      "m     Enter the minimum sequence length for vsearch alignment. (Default is 1.)\n",
      "t     Enter the target coverage for vsearch alignment. (Default is 1.)\n",
      "c     FINAL OUTPUT WILL GO HERE. Enter the desired output folder for storing raw counts .tsv files. Script will create folder if it does not exist.\n",
      "w     Enter the name of the wash control as it appears in your guide library database file.\n",
      "\n",
      "NoteCompletedProcess(args=['/Users/evelynfaust/Desktop/ORNL/CRISPRi_data_analysis/CRISPRi_data_analysis/process_data.sh', '-h'], returncode=0)\n",
      ": it is also recommended to look at read quality using softwares such as fastqc. Expect fails in ###. \n",
      "    Q score 30 is considered very good, and N ratio should not exceed 5% (lack of confidence at a certain position - indicates machine malfunction)\n",
      "\n"
     ]
    }
   ],
   "source": [
    "\"\"\"Run the next cell to see help documentation for what information is required.\"\"\"\n",
    "\n",
    "help_out = subprocess.run([\"/Users/evelynfaust/Desktop/ORNL/CRISPRi_data_analysis/CRISPRi_data_analysis/process_data.sh\",\n",
    "                         \"-h\"])\n",
    "print(help_out)"
   ]
  },
  {
   "cell_type": "code",
   "execution_count": 33,
   "metadata": {},
   "outputs": [],
   "source": [
    "\"\"\" Supply the necessary inputs \"\"\"\n",
    "\n",
    "# Required folder and library file paths:\n",
    "raw_seq_folder = '/Users/evelynfaust/Desktop/ORNL/CRISPRi_data_analysis/test_raw_seq'\n",
    "database_library = '/Users/evelynfaust/Desktop/ORNL/CRISPRi_data_analysis/test_raw_seq/database_22B1.fasta'\n",
    "out_folder = '/Users/evelynfaust/Desktop/ORNL/CRISPRi_data_analysis/NEW_TEST_ALIGN_OUT'\n",
    "\n",
    "# Optional parameters with defaults:\n",
    "percent_id_align = 0.9\n",
    "min_seq_length = 1\n",
    "target_cov_align = 1"
   ]
  },
  {
   "cell_type": "code",
   "execution_count": 34,
   "metadata": {},
   "outputs": [
    {
     "name": "stderr",
     "output_type": "stream",
     "text": [
      "vsearch v2.28.1_macos_x86_64, 16.0GB RAM, 12 cores\n",
      "https://github.com/torognes/vsearch\n",
      "\n",
      "Merging reads 100%\n",
      "   1000000  Pairs\n",
      "    936493  Merged (93.6%)\n",
      "     63507  Not merged (6.4%)\n",
      "\n",
      "Pairs that failed merging due to various reasons:\n",
      "      1121  too few kmers found on same diagonal\n",
      "        22  multiple potential alignments\n",
      "      8224  too many differences\n",
      "     50049  alignment score too low, or score drop too high\n",
      "         1  overlap too short\n",
      "      4090  staggered read pairs\n",
      "\n",
      "Statistics of all reads:\n",
      "    150.00  Mean read length\n",
      "\n",
      "Statistics of merged reads:\n",
      "    204.68  Mean fragment length\n",
      "      5.72  Standard deviation of fragment length\n",
      "      0.15  Mean expected error in forward sequences\n",
      "      0.24  Mean expected error in reverse sequences\n",
      "      0.20  Mean expected error in merged sequences\n",
      "      0.44  Mean observed errors in merged region of forward sequences\n",
      "      0.58  Mean observed errors in merged region of reverse sequences\n",
      "      1.02  Mean observed errors in merged region\n",
      "vsearch v2.28.1_macos_x86_64, 16.0GB RAM, 12 cores\n",
      "https://github.com/torognes/vsearch\n",
      "\n",
      "Reading file /Users/evelynfaust/Desktop/ORNL/CRISPRi_data_analysis/test_raw_seq/database_22B1.fasta 100%\n",
      "13302912 nt in 65856 seqs, min 202, max 202, avg 202\n",
      "Masking"
     ]
    },
    {
     "name": "stdout",
     "output_type": "stream",
     "text": [
      "hi\n"
     ]
    },
    {
     "name": "stderr",
     "output_type": "stream",
     "text": [
      " 100%\n",
      "Counting k-mers 100%\n",
      "Creating k-mer index 100%\n",
      "Searching 100%\n",
      "Matching unique query sequences: 804532 of 936493 (85.91%)\n",
      "vsearch v2.28.1_macos_x86_64, 16.0GB RAM, 12 cores\n",
      "https://github.com/torognes/vsearch\n",
      "\n",
      "Merging reads"
     ]
    },
    {
     "name": "stdout",
     "output_type": "stream",
     "text": [
      "hi2\n"
     ]
    },
    {
     "name": "stderr",
     "output_type": "stream",
     "text": [
      " 100%\n",
      "   1000000  Pairs\n",
      "    936493  Merged (93.6%)\n",
      "     63507  Not merged (6.4%)\n",
      "\n",
      "Pairs that failed merging due to various reasons:\n",
      "      1121  too few kmers found on same diagonal\n",
      "        22  multiple potential alignments\n",
      "      8224  too many differences\n",
      "     50049  alignment score too low, or score drop too high\n",
      "         1  overlap too short\n",
      "      4090  staggered read pairs\n",
      "\n",
      "Statistics of all reads:\n",
      "    150.00  Mean read length\n",
      "\n",
      "Statistics of merged reads:\n",
      "    204.68  Mean fragment length\n",
      "      5.72  Standard deviation of fragment length\n",
      "      0.15  Mean expected error in forward sequences\n",
      "      0.24  Mean expected error in reverse sequences\n",
      "      0.20  Mean expected error in merged sequences\n",
      "      0.44  Mean observed errors in merged region of forward sequences\n",
      "      0.58  Mean observed errors in merged region of reverse sequences\n",
      "      1.02  Mean observed errors in merged region\n",
      "vsearch v2.28.1_macos_x86_64, 16.0GB RAM, 12 cores\n",
      "https://github.com/torognes/vsearch\n",
      "\n",
      "Reading file /Users/evelynfaust/Desktop/ORNL/CRISPRi_data_analysis/test_raw_seq/database_22B1.fasta 100%\n",
      "13302912 nt in 65856 seqs, min 202, max 202, avg 202\n",
      "Masking"
     ]
    },
    {
     "name": "stdout",
     "output_type": "stream",
     "text": [
      "hi\n"
     ]
    },
    {
     "name": "stderr",
     "output_type": "stream",
     "text": [
      " 100%\n",
      "Counting k-mers 100%\n",
      "Creating k-mer index 100%\n",
      "Searching"
     ]
    },
    {
     "name": "stdout",
     "output_type": "stream",
     "text": [
      "hi2\n",
      "CompletedProcess(args=['/Users/evelynfaust/Desktop/ORNL/CRISPRi_data_analysis/CRISPRi_data_analysis/process_data.sh', '-r', '/Users/evelynfaust/Desktop/ORNL/CRISPRi_data_analysis/test_raw_seq', '-d', '/Users/evelynfaust/Desktop/ORNL/CRISPRi_data_analysis/test_raw_seq/database_22B1.fasta', '-o', '/Users/evelynfaust/Desktop/ORNL/CRISPRi_data_analysis/NEW_TEST_ALIGN_OUT', '-c', '/Users/evelynfaust/Desktop/ORNL/CRISPRi_data_analysis/NEW_TEST_COUNT_OUT', '-i', '0.9', '-m', '1', '-t', '1'], returncode=0)\n"
     ]
    },
    {
     "name": "stderr",
     "output_type": "stream",
     "text": [
      " 100%\n",
      "Matching unique query sequences: 804532 of 936493 (85.91%)\n"
     ]
    }
   ],
   "source": [
    "\"\"\" Run this cell to process the data \"\"\"\n",
    "\n",
    "processing_result = subprocess.run([\"/Users/evelynfaust/Desktop/ORNL/CRISPRi_data_analysis/CRISPRi_data_analysis/process_data.sh\",\n",
    "                                    \"-r\", raw_seq_folder,\n",
    "                                    \"-d\", database_library,\n",
    "                                    \"-o\", out_folder,\n",
    "                                    \"-i\", str(percent_id_align),\n",
    "                                    \"-m\", str(min_seq_length),\n",
    "                                    \"-t\", str(target_cov_align)])\n",
    "print(processing_result)"
   ]
  },
  {
   "cell_type": "markdown",
   "metadata": {},
   "source": [
    "# Count Abundance and Combine Data"
   ]
  },
  {
   "cell_type": "markdown",
   "metadata": {},
   "source": []
  }
 ],
 "metadata": {
  "kernelspec": {
   "display_name": "CRISPRi",
   "language": "python",
   "name": "python3"
  },
  "language_info": {
   "codemirror_mode": {
    "name": "ipython",
    "version": 3
   },
   "file_extension": ".py",
   "mimetype": "text/x-python",
   "name": "python",
   "nbconvert_exporter": "python",
   "pygments_lexer": "ipython3",
   "version": "3.11.9"
  }
 },
 "nbformat": 4,
 "nbformat_minor": 2
}
